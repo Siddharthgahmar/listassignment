{
 "cells": [
  {
   "cell_type": "markdown",
   "id": "eac81840-9058-4e6a-a69d-930b30635505",
   "metadata": {},
   "source": [
    "Q1-Create an empty list.\n",
    "Ans-"
   ]
  },
  {
   "cell_type": "code",
   "execution_count": 2,
   "id": "38522270-7183-4c06-8f7e-2eb440e089d2",
   "metadata": {},
   "outputs": [
    {
     "name": "stdout",
     "output_type": "stream",
     "text": [
      "[]\n"
     ]
    }
   ],
   "source": [
    "l=[]\n",
    "print(l)"
   ]
  },
  {
   "cell_type": "markdown",
   "id": "da5f1d88-970e-4b27-bd25-6584d21987c8",
   "metadata": {},
   "source": [
    "Q2-Create a list and add an element to the end of the list.\n",
    "Ans-"
   ]
  },
  {
   "cell_type": "code",
   "execution_count": 12,
   "id": "1b7e6c54-6518-42c0-8ccf-16ce7ec51a88",
   "metadata": {},
   "outputs": [
    {
     "name": "stdout",
     "output_type": "stream",
     "text": [
      "[1, 10, 3, 14, 25, 55]\n"
     ]
    }
   ],
   "source": [
    "l1=[1,10,3,14,25]\n",
    "l1.append(55)\n",
    "print(l1)"
   ]
  },
  {
   "cell_type": "markdown",
   "id": "a049109b-cb2c-40e1-8333-f1ca513d7bf0",
   "metadata": {},
   "source": [
    "Q3-For the above created list print the last element.\n",
    "Ans-"
   ]
  },
  {
   "cell_type": "code",
   "execution_count": 13,
   "id": "00483bbd-1e6d-4bdc-a89b-dfffe8601d68",
   "metadata": {},
   "outputs": [
    {
     "data": {
      "text/plain": [
       "55"
      ]
     },
     "execution_count": 13,
     "metadata": {},
     "output_type": "execute_result"
    }
   ],
   "source": [
    "l1[5]"
   ]
  },
  {
   "cell_type": "markdown",
   "id": "b12e3410-60b1-4b48-95f8-fdb66cc75adc",
   "metadata": {},
   "source": [
    "Q4-Reverse the above created list.\n",
    "Ans-"
   ]
  },
  {
   "cell_type": "code",
   "execution_count": 14,
   "id": "2622b5c7-7cc0-40d2-a7f4-29054661a35c",
   "metadata": {},
   "outputs": [],
   "source": [
    "l1.reverse()"
   ]
  },
  {
   "cell_type": "code",
   "execution_count": 15,
   "id": "c383770a-30b8-4d18-9476-fed6fea279f2",
   "metadata": {},
   "outputs": [
    {
     "data": {
      "text/plain": [
       "[55, 25, 14, 3, 10, 1]"
      ]
     },
     "execution_count": 15,
     "metadata": {},
     "output_type": "execute_result"
    }
   ],
   "source": [
    "l1"
   ]
  },
  {
   "cell_type": "markdown",
   "id": "64f21c2d-1640-42e3-9667-27a0bd56c7a3",
   "metadata": {},
   "source": [
    "Q5-Sort the above creqted list.\n",
    "Ans-"
   ]
  },
  {
   "cell_type": "code",
   "execution_count": 16,
   "id": "8e2283ec-f466-4c73-914e-51db2053413f",
   "metadata": {},
   "outputs": [],
   "source": [
    "l1.sort()"
   ]
  },
  {
   "cell_type": "code",
   "execution_count": 17,
   "id": "e3005f6d-522b-4a97-afef-7465bdac8faf",
   "metadata": {},
   "outputs": [
    {
     "data": {
      "text/plain": [
       "[1, 3, 10, 14, 25, 55]"
      ]
     },
     "execution_count": 17,
     "metadata": {},
     "output_type": "execute_result"
    }
   ],
   "source": [
    "l1"
   ]
  },
  {
   "cell_type": "markdown",
   "id": "c3354408-69dc-4da1-9601-d4bf76e06d73",
   "metadata": {},
   "source": [
    "Q6-Create a list of top three favorite movies, then print the second movie title.\n",
    "Ans-"
   ]
  },
  {
   "cell_type": "code",
   "execution_count": 19,
   "id": "782668b7-2a34-43d4-bd06-25feabe5be33",
   "metadata": {},
   "outputs": [
    {
     "name": "stdout",
     "output_type": "stream",
     "text": [
      "KGF\n"
     ]
    }
   ],
   "source": [
    "movie_list=[\"RRR\",\"KGF\",\"Bahubali\"]\n",
    "print(movie_list[1])"
   ]
  },
  {
   "cell_type": "markdown",
   "id": "adb5bb9d-d0d8-4bdc-b024-3b730cdec57c",
   "metadata": {},
   "source": [
    "Q7-Create a list of your favorite animal,then add a new animal to the list and print updated list.\n",
    "Ans-"
   ]
  },
  {
   "cell_type": "code",
   "execution_count": 23,
   "id": "956ebce9-c291-42da-a765-138dd78de867",
   "metadata": {},
   "outputs": [
    {
     "name": "stdout",
     "output_type": "stream",
     "text": [
      "['cow', 'goat', 'horse', 'cat']\n"
     ]
    }
   ],
   "source": [
    "animal_list=[\"cow\",\"goat\",\"horse\"]\n",
    "animal_list.append(\"cat\")\n",
    "print(animal_list)"
   ]
  },
  {
   "cell_type": "markdown",
   "id": "e1ee1607-c9dd-462a-a18a-e812e431ef09",
   "metadata": {},
   "source": [
    "Q8-Create a list of your favorite cities,then use the index() method to find the position of a specific city on the list and print it.\n",
    "Ans-"
   ]
  },
  {
   "cell_type": "code",
   "execution_count": 34,
   "id": "6f7ae57c-bddb-4398-8813-9c5625424fe2",
   "metadata": {},
   "outputs": [
    {
     "name": "stdout",
     "output_type": "stream",
     "text": [
      "the position of Varanasi city in the list is : 1\n"
     ]
    }
   ],
   "source": [
    "cities_list=[\"Ghazipur\",\"Varanasi\",\"prayagraj\"]\n",
    "city=\"Varanasi\"\n",
    "position=cities_list.index(city)\n",
    "print(\"the position of Varanasi city in the list is :\", position)"
   ]
  },
  {
   "cell_type": "code",
   "execution_count": null,
   "id": "057780b0-5b84-4af5-94a4-29238fd87ff5",
   "metadata": {},
   "outputs": [],
   "source": []
  },
  {
   "cell_type": "code",
   "execution_count": null,
   "id": "f05657cd-653a-4379-9516-c1a6200cb944",
   "metadata": {},
   "outputs": [],
   "source": []
  },
  {
   "cell_type": "code",
   "execution_count": null,
   "id": "62adc01e-da8c-4c9d-b070-72a1a457e705",
   "metadata": {},
   "outputs": [],
   "source": []
  },
  {
   "cell_type": "code",
   "execution_count": null,
   "id": "61e36608-4c8b-4444-bf4f-9fb8b4a19daa",
   "metadata": {},
   "outputs": [],
   "source": []
  },
  {
   "cell_type": "code",
   "execution_count": null,
   "id": "3f76b270-6b1b-4759-87b3-f5159f1f0dee",
   "metadata": {},
   "outputs": [],
   "source": []
  },
  {
   "cell_type": "code",
   "execution_count": null,
   "id": "75ae563a-4f76-4edd-aa02-a593e43fbc43",
   "metadata": {},
   "outputs": [],
   "source": []
  },
  {
   "cell_type": "code",
   "execution_count": null,
   "id": "33fe6031-b4e1-4e6b-ab5f-3de9ef128792",
   "metadata": {},
   "outputs": [],
   "source": []
  },
  {
   "cell_type": "code",
   "execution_count": null,
   "id": "510d0042-5725-4d6b-8207-0281cef8f2d2",
   "metadata": {},
   "outputs": [],
   "source": []
  }
 ],
 "metadata": {
  "kernelspec": {
   "display_name": "Python 3 (ipykernel)",
   "language": "python",
   "name": "python3"
  },
  "language_info": {
   "codemirror_mode": {
    "name": "ipython",
    "version": 3
   },
   "file_extension": ".py",
   "mimetype": "text/x-python",
   "name": "python",
   "nbconvert_exporter": "python",
   "pygments_lexer": "ipython3",
   "version": "3.10.8"
  }
 },
 "nbformat": 4,
 "nbformat_minor": 5
}
